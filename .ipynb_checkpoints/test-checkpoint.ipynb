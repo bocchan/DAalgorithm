{
 "cells": [
  {
   "cell_type": "code",
   "execution_count": 1,
   "metadata": {
    "collapsed": false,
    "scrolled": false
   },
   "outputs": [
    {
     "name": "stderr",
     "output_type": "stream",
     "text": [
      "test_matching.TestDeferredAcceptance.test_female_proposal ... ERROR\n",
      "test_matching.TestDeferredAcceptance.test_male_proposal ... "
     ]
    },
    {
     "name": "stdout",
     "output_type": "stream",
     "text": [
      "[0, 1, 2]\n",
      "[4, 4, 4]\n",
      "[3, 3, 3, 3]\n",
      "[0, 1, 2, 3]\n",
      "[3, 3, 3, 3]\n",
      "[4, 4, 4]\n"
     ]
    },
    {
     "name": "stderr",
     "output_type": "stream",
     "text": [
      "FAIL\n",
      "\n",
      "======================================================================\n",
      "ERROR: test_matching.TestDeferredAcceptance.test_female_proposal\n",
      "----------------------------------------------------------------------\n",
      "Traceback (most recent call last):\n",
      "  File \"c:\\anaconda\\lib\\site-packages\\nose\\case.py\", line 197, in runTest\n",
      "    self.test(*self.arg)\n",
      "  File \"C:\\sourcetreerepository\\matching2\\test_matching.py\", line 38, in test_female_proposal\n",
      "    deferred_acceptance(self.f_prefs, self.m_prefs)\n",
      "  File \"C:\\sourcetreerepository\\matching2\\matching.py\", line 21, in deferred_acceptance\n",
      "    y = arg1[x].pop()\n",
      "IndexError: list index out of range\n",
      "\n",
      "======================================================================\n",
      "FAIL: test_matching.TestDeferredAcceptance.test_male_proposal\n",
      "----------------------------------------------------------------------\n",
      "Traceback (most recent call last):\n",
      "  File \"c:\\anaconda\\lib\\site-packages\\nose\\case.py\", line 197, in runTest\n",
      "    self.test(*self.arg)\n",
      "  File \"C:\\sourcetreerepository\\matching2\\test_matching.py\", line 33, in test_male_proposal\n",
      "    assert_array_equal(m_matched_computed, self.m_matched)\n",
      "  File \"c:\\anaconda\\lib\\site-packages\\numpy\\testing\\utils.py\", line 739, in assert_array_equal\n",
      "    verbose=verbose, header='Arrays are not equal')\n",
      "  File \"c:\\anaconda\\lib\\site-packages\\numpy\\testing\\utils.py\", line 665, in assert_array_compare\n",
      "    raise AssertionError(msg)\n",
      "AssertionError: \n",
      "Arrays are not equal\n",
      "\n",
      "(mismatch 50.0%)\n",
      " x: array([0, 2, 1, 3])\n",
      " y: array([0, 1, 2, 3])\n",
      "\n",
      "----------------------------------------------------------------------\n",
      "Ran 2 tests in 0.020s\n",
      "\n",
      "FAILED (errors=1, failures=1)\n"
     ]
    },
    {
     "ename": "SystemExit",
     "evalue": "True",
     "output_type": "error",
     "traceback": [
      "An exception has occurred, use %tb to see the full traceback.\n",
      "\u001b[1;31mSystemExit\u001b[0m\u001b[1;31m:\u001b[0m True\n"
     ]
    }
   ],
   "source": [
    "run test_matching.py"
   ]
  },
  {
   "cell_type": "code",
   "execution_count": null,
   "metadata": {
    "collapsed": true
   },
   "outputs": [],
   "source": []
  },
  {
   "cell_type": "code",
   "execution_count": null,
   "metadata": {
    "collapsed": true
   },
   "outputs": [],
   "source": []
  }
 ],
 "metadata": {
  "kernelspec": {
   "display_name": "Python 2",
   "language": "python",
   "name": "python2"
  },
  "language_info": {
   "codemirror_mode": {
    "name": "ipython",
    "version": 2
   },
   "file_extension": ".py",
   "mimetype": "text/x-python",
   "name": "python",
   "nbconvert_exporter": "python",
   "pygments_lexer": "ipython2",
   "version": "2.7.9"
  }
 },
 "nbformat": 4,
 "nbformat_minor": 0
}
