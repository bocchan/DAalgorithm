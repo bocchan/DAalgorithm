{
 "cells": [
  {
   "cell_type": "code",
   "execution_count": 1,
   "metadata": {
    "collapsed": false,
    "scrolled": false
   },
   "outputs": [
    {
     "ename": "SyntaxError",
     "evalue": "invalid syntax (matching.py, line 1)",
     "output_type": "error",
     "traceback": [
      "\u001b[1;36m  File \u001b[1;32m\"C:\\sourcetreerepository\\matching2\\matching.py\"\u001b[1;36m, line \u001b[1;32m1\u001b[0m\n\u001b[1;33m    <<<<<<< HEAD\u001b[0m\n\u001b[1;37m     ^\u001b[0m\n\u001b[1;31mSyntaxError\u001b[0m\u001b[1;31m:\u001b[0m invalid syntax\n"
     ]
    }
   ],
   "source": [
    "run test_matching.py"
   ]
  },
  {
   "cell_type": "code",
   "execution_count": null,
   "metadata": {
    "collapsed": true
   },
   "outputs": [],
   "source": [
    "import copy\n",
    "import numpy as np\n",
    "\n",
    "m_prefs=np.array([[4,0,1,2,3],[1,2,0,3,4],[3,1,0,2,4]])\n",
    "f_prefs=np.array([[0,1,2,3],[1,0,3,2],[1,2,0,3],[0,3,2,1]])\n",
    "\n",
    "def array_to_dict(array):\n",
    "    dict = {}\n",
    "    for x, y in enumerate(array):\n",
    "        dict[x] = list(y)\n",
    "    return dict\n",
    "\n",
    "  \n",
    "def deferred_acceptance(m_prefs,f_prefs):\n",
    "    m_prefers = array_to_dict(m_prefs)\n",
    "    f_prefers = array_to_dict(f_prefs)\n",
    "    guys = sorted(m_prefers.keys())\n",
    "    gals = sorted(f_prefers.keys())\n",
    "    guysfree = guys[:]\n",
    "    engaged  = {}\n",
    "    guyprefers2 = copy.deepcopy(m_prefers)\n",
    "    galprefers2 = copy.deepcopy(f_prefers)\n",
    "    while guysfree:\n",
    "        guy = guysfree.pop(0)\n",
    "        guyslist = guyprefers2[guy]\n",
    "        gal = guyslist.pop(0)\n",
    "        fiance = engaged.get(gal)\n",
    "        if not fiance:\n",
    "            # She's free\n",
    "            engaged[gal] = guy\n",
    "        else:\n",
    "            # The bounder proposes to an engaged lass!\n",
    "            galslist = galprefers2[gal]\n",
    "            if galslist.index(fiance) > galslist.index(guy):\n",
    "                # She prefers new guy\n",
    "                engaged[gal] = guy\n",
    "                if guyprefers2[fiance]:\n",
    "                    # Ex has more girls to try\n",
    "                    guysfree.append(fiance)\n",
    "            else:\n",
    "                # She is faithful to old fiance\n",
    "                if guyslist:\n",
    "                    # Look again\n",
    "                    guysfree.append(guy)\n",
    "    return engaged\n",
    " \n",
    "print engaged #女性、男性の順"
   ]
  },
  {
   "cell_type": "code",
   "execution_count": null,
   "metadata": {
    "collapsed": true
   },
   "outputs": [],
   "source": []
  }
 ],
 "metadata": {
  "kernelspec": {
   "display_name": "Python 2",
   "language": "python",
   "name": "python2"
  },
  "language_info": {
   "codemirror_mode": {
    "name": "ipython",
    "version": 2
   },
   "file_extension": ".py",
   "mimetype": "text/x-python",
   "name": "python",
   "nbconvert_exporter": "python",
   "pygments_lexer": "ipython2",
   "version": "2.7.9"
  }
 },
 "nbformat": 4,
 "nbformat_minor": 0
}
